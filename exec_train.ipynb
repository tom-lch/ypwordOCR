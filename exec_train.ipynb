{
 "cells": [
  {
   "cell_type": "code",
   "execution_count": null,
   "source": [
    "首先是训练ProjectX 模型 基于DBNet的第一版"
   ],
   "outputs": [],
   "metadata": {}
  },
  {
   "cell_type": "markdown",
   "source": [
    "V1.0 Base DBNet"
   ],
   "metadata": {}
  },
  {
   "cell_type": "markdown",
   "source": [
    "第一版模型：训练DBNet 进行基准测试\n",
    "骨干网是RES50 icdar 训练2000轮，文本目标检测训练2000轮，得出第一批测试数据\n",
    "骨干网是mv3  icdar 训练2000轮，文本目标检测训练2000轮，得出第一批测试数据"
   ],
   "metadata": {}
  },
  {
   "cell_type": "code",
   "execution_count": null,
   "source": [
    "!python tools/train.py -c config/det/det_r50_vd_db.yaml \n",
    "# 训练完成后根据断点继续训练药品数据集\n",
    "#!python tools/train.py -c configs/det/det_mv3_db.yml -o Global.checkpoints=./output/db_mv3/latest"
   ],
   "outputs": [],
   "metadata": {}
  },
  {
   "cell_type": "code",
   "execution_count": null,
   "source": [
    "!python tools/train.py -c config/det/det_mv3_db.yaml\n",
    "# 训练完成后根据断点继续训练药品数据集"
   ],
   "outputs": [],
   "metadata": {}
  }
 ],
 "metadata": {
  "orig_nbformat": 4,
  "language_info": {
   "name": "python"
  }
 },
 "nbformat": 4,
 "nbformat_minor": 2
}